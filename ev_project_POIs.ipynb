{
 "cells": [
  {
   "cell_type": "markdown",
   "id": "a4651cf3-5a68-4f63-ba60-2ec249d900e4",
   "metadata": {},
   "source": [
    "#### Importamos librerías con las que trabajaremos"
   ]
  },
  {
   "cell_type": "code",
   "execution_count": 2,
   "id": "24bb0828-88ea-47aa-b833-60344aaf12c6",
   "metadata": {},
   "outputs": [],
   "source": [
    "import numpy as np\n",
    "import pandas as pd\n",
    "import geopandas as gpd\n",
    "import contextily as cx\n",
    "import matplotlib.pyplot as plt\n",
    "import osmnx as ox\n",
    "import warnings\n",
    "warnings.filterwarnings('ignore')\n",
    "pd.set_option('display.max_columns', None)"
   ]
  },
  {
   "cell_type": "markdown",
   "id": "8b5659cf-248b-4aae-a457-63618709b433",
   "metadata": {},
   "source": [
    "#### Descargamos fichero shp Región Metropolitana para definir poligono de interés para POIs"
   ]
  },
  {
   "cell_type": "code",
   "execution_count": 5,
   "id": "9d9bd57d-cfd9-4272-ab96-724b0f0a2b72",
   "metadata": {},
   "outputs": [],
   "source": [
    "rm_comunas = gpd.read_file('../GeoPython/Chile/Censo/R13/COMUNA_C17.shp')"
   ]
  },
  {
   "cell_type": "code",
   "execution_count": 6,
   "id": "ce45668f-024d-4436-8678-7f83ba09a044",
   "metadata": {},
   "outputs": [],
   "source": [
    "# proyectamos coordenadas\n",
    "rm_comunas.to_crs(4326, inplace=True)"
   ]
  },
  {
   "cell_type": "code",
   "execution_count": 7,
   "id": "29816d81-621c-41c6-8b1f-8610761b0ba2",
   "metadata": {},
   "outputs": [],
   "source": [
    "# seleccionamos las comunas de interés\n",
    "\n",
    "comunas_sel = rm_comunas.loc[~rm_comunas['NOM_COMUNA'].isin(['TILTIL','LAMPA', 'MARÍA PINTO', 'CURACAVÍ','CALERA DE TANGO',\n",
    "                                                             'SAN JOSÉ DE MAIPO', 'PIRQUE','EL MONTE','TALAGANTE', 'SAN PEDRO', 'ALHUÉ',\n",
    "                                                             'PAINE', 'BUIN','ISLA DE MAIPO','PEÑAFLOR', 'PADRE HURTADO','MELIPILLA'])].copy()"
   ]
  },
  {
   "cell_type": "code",
   "execution_count": 8,
   "id": "e0bcba3f-d9fa-40d2-896e-91d19b56ee56",
   "metadata": {},
   "outputs": [],
   "source": [
    "# con la función dissolve convertimos en un solo gran polígono\n",
    "comunas_aoi = comunas_sel.dissolve()"
   ]
  },
  {
   "cell_type": "code",
   "execution_count": 3,
   "id": "7e739901-e6f3-42fa-a2f6-7c3c7f2ebb6e",
   "metadata": {},
   "outputs": [],
   "source": [
    "# tags de OpenStreetMap\n",
    "tags_restaurants = {'amenity':[\"bar\", \"cafe\", \"fast_food\", \"pub\", \"restaurant\", \"food_court\"]}\n",
    "tags_shop = {\"shop\": [\"department_store\", \"supermarket\", \"mall\", \"hairdresser\", \"beauty\", \"furniture\"]}\n",
    "tags_cinema = {'amenity':['cinema', 'theatre']}\n",
    "tags_banks = {'amenity':\"bank\"} \n",
    "tags_hotel = {'tourism':'hotel'}\n",
    "tags_airport = {'aeroway':'aerodrome'}\n",
    "tags_trains = {'public_transport':'station'}\n",
    "tags_parking = {'amenity':'parking'}\n",
    "tags_hospitals = {'amenity':['clinic','hospital']}\n",
    "tags_ev = {'amenity':'charging_station'}"
   ]
  },
  {
   "cell_type": "markdown",
   "id": "a5e6a273-ddf6-403e-976d-ba20f8483f1b",
   "metadata": {},
   "source": [
    "#### Obtenemos POIs de OSM"
   ]
  },
  {
   "cell_type": "code",
   "execution_count": 9,
   "id": "5b3a30a9-9dba-4ebb-bffd-82a043dcaa67",
   "metadata": {},
   "outputs": [],
   "source": [
    "pois_restaurants = ox.geometries.geometries_from_polygon(polygon = comunas_aoi.iloc[0]['geometry'], tags=tags_restaurants)"
   ]
  },
  {
   "cell_type": "code",
   "execution_count": 17,
   "id": "422af61c-de83-45cb-8bcb-bc2b7f329db5",
   "metadata": {},
   "outputs": [],
   "source": [
    "pois_shop = ox.geometries.geometries_from_polygon(polygon = comunas_aoi.iloc[0]['geometry'], tags=tags_shop)"
   ]
  },
  {
   "cell_type": "code",
   "execution_count": 18,
   "id": "a9c000b4-c389-4e7e-8ee2-281cc627c194",
   "metadata": {},
   "outputs": [],
   "source": [
    "pois_cinema = ox.geometries.geometries_from_polygon(polygon = comunas_aoi.iloc[0]['geometry'], tags=tags_cinema)"
   ]
  },
  {
   "cell_type": "code",
   "execution_count": 19,
   "id": "6d74c59d-2bcc-4532-a4a9-409282dcd195",
   "metadata": {},
   "outputs": [],
   "source": [
    "pois_banks = ox.geometries.geometries_from_polygon(polygon = comunas_aoi.iloc[0]['geometry'], tags=tags_banks)"
   ]
  },
  {
   "cell_type": "code",
   "execution_count": 20,
   "id": "5cee7064-5d56-4739-9484-e9297268a39a",
   "metadata": {},
   "outputs": [],
   "source": [
    "pois_hotel = ox.geometries.geometries_from_polygon(polygon = comunas_aoi.iloc[0]['geometry'], tags=tags_hotel)"
   ]
  },
  {
   "cell_type": "code",
   "execution_count": 21,
   "id": "448e9b2f-2b1d-42dd-805d-3a1a561e8307",
   "metadata": {},
   "outputs": [],
   "source": [
    "pois_airport = ox.geometries.geometries_from_polygon(polygon = comunas_aoi.iloc[0]['geometry'], tags=tags_airport)"
   ]
  },
  {
   "cell_type": "code",
   "execution_count": 22,
   "id": "6ceb2a23-7f87-40e1-84e1-327847c87e6a",
   "metadata": {},
   "outputs": [],
   "source": [
    "pois_trains = ox.geometries.geometries_from_polygon(polygon = comunas_aoi.iloc[0]['geometry'], tags=tags_trains)"
   ]
  },
  {
   "cell_type": "code",
   "execution_count": 23,
   "id": "89f914b8-ec23-48dc-b2a1-83cfded82021",
   "metadata": {},
   "outputs": [],
   "source": [
    "pois_parking = ox.geometries.geometries_from_polygon(polygon = comunas_aoi.iloc[0]['geometry'], tags=tags_parking)"
   ]
  },
  {
   "cell_type": "code",
   "execution_count": 24,
   "id": "7897caf0-9ad2-42d2-8b49-04b82691bcd8",
   "metadata": {},
   "outputs": [],
   "source": [
    "pois_hospitals = ox.geometries.geometries_from_polygon(polygon = comunas_aoi.iloc[0]['geometry'], tags=tags_hospitals)"
   ]
  },
  {
   "cell_type": "code",
   "execution_count": 26,
   "id": "764d8092-bd08-4fee-b8de-633af7ec2c85",
   "metadata": {},
   "outputs": [],
   "source": [
    "# Obtenemos coordenadas Lon/Lat a partir de centroides\n",
    "warnings.filterwarnings('ignore')\n",
    "\n",
    "pois_restaurants['lat'] = pois_restaurants.centroid.y\n",
    "pois_restaurants['lon'] = pois_restaurants.centroid.x\n",
    "\n",
    "pois_shop['lat'] = pois_shop.centroid.y\n",
    "pois_shop['lon'] = pois_shop.centroid.x\n",
    "\n",
    "pois_cinema['lat'] = pois_cinema.centroid.y\n",
    "pois_cinema['lon'] = pois_cinema.centroid.x\n",
    "\n",
    "pois_banks['lat'] = pois_banks.centroid.y\n",
    "pois_banks['lon'] = pois_banks.centroid.x\n",
    "\n",
    "pois_hotel['lat'] = pois_hotel.centroid.y\n",
    "pois_hotel['lon'] = pois_hotel.centroid.x\n",
    "\n",
    "pois_airport['lat'] = pois_airport.centroid.y\n",
    "pois_airport['lon'] = pois_airport.centroid.x\n",
    "\n",
    "pois_trains['lat'] = pois_trains.centroid.y\n",
    "pois_trains['lon'] = pois_trains.centroid.x\n",
    "\n",
    "pois_parking['lat'] = pois_parking.centroid.y\n",
    "pois_parking['lon'] = pois_parking.centroid.x\n",
    "\n",
    "pois_hospitals['lat'] = pois_hospitals.centroid.y\n",
    "pois_hospitals['lon'] = pois_hospitals.centroid.x"
   ]
  },
  {
   "cell_type": "markdown",
   "id": "698289ad-58ce-4a13-b80a-2a73ed725d9f",
   "metadata": {},
   "source": [
    "#### Transformamos a DF más acotados"
   ]
  },
  {
   "cell_type": "code",
   "execution_count": 28,
   "id": "6df90dc7-5abd-4f3c-a002-b66322520260",
   "metadata": {},
   "outputs": [],
   "source": [
    "df_rest = pois_restaurants.reset_index()[['osmid', 'name', 'lat', 'lon']]\n",
    "df_shop = pois_shop.reset_index()[['osmid', 'name', 'lat', 'lon']]\n",
    "df_cinema = pois_cinema.reset_index()[['osmid', 'name', 'lat', 'lon']]\n",
    "df_banks = pois_banks.reset_index()[['osmid', 'name', 'lat', 'lon']]\n",
    "df_hotel = pois_hotel.reset_index()[['osmid', 'name', 'lat', 'lon']]\n",
    "df_airport = pois_airport.reset_index()[['osmid', 'name', 'lat', 'lon']]\n",
    "df_trains = pois_trains.reset_index()[['osmid', 'name', 'lat', 'lon']]\n",
    "df_parking = pois_parking.reset_index()[['osmid', 'name', 'lat', 'lon']]\n",
    "df_hospitals = pois_hospitals.reset_index()[['osmid', 'name', 'lat', 'lon']]"
   ]
  },
  {
   "cell_type": "markdown",
   "id": "91a03d78-1ed2-41da-be2e-c41cbae05eab",
   "metadata": {},
   "source": [
    "#### Unimos todos los POIs y creamos nuevo DF"
   ]
  },
  {
   "cell_type": "code",
   "execution_count": 31,
   "id": "c4346dfe-e191-40b5-b2a9-3f3fbce3d3cc",
   "metadata": {},
   "outputs": [],
   "source": [
    "locations = pd.concat([df_rest, df_shop, df_cinema, df_banks, df_hotel, df_airport, df_trains, df_parking, df_hospitals], ignore_index=True)"
   ]
  },
  {
   "cell_type": "code",
   "execution_count": 32,
   "id": "74c36e86-63cb-47c4-b60c-0948393641b2",
   "metadata": {},
   "outputs": [
    {
     "data": {
      "text/plain": [
       "(9973, 9973)"
      ]
     },
     "execution_count": 32,
     "metadata": {},
     "output_type": "execute_result"
    }
   ],
   "source": [
    "# chequeamos el join\n",
    "len(locations), len(df_rest) + len(df_shop) + len(df_cinema) + len(df_banks) + len(df_hotel) + len(df_airport) + len(df_trains)+len(df_parking) + len(df_hospitals)"
   ]
  },
  {
   "cell_type": "code",
   "execution_count": 33,
   "id": "73394983-38d1-4fd3-84c2-569658963e40",
   "metadata": {},
   "outputs": [],
   "source": [
    "# convertimos a fichero csv\n",
    "locations.to_csv('../GeoPython/Chile/EV_Chargers/POIs_location.csv')"
   ]
  },
  {
   "cell_type": "code",
   "execution_count": null,
   "id": "3b6e9601-8d89-4556-a0f8-d779df45e423",
   "metadata": {},
   "outputs": [],
   "source": []
  }
 ],
 "metadata": {
  "kernelspec": {
   "display_name": "Python 3 (ipykernel)",
   "language": "python",
   "name": "python3"
  },
  "language_info": {
   "codemirror_mode": {
    "name": "ipython",
    "version": 3
   },
   "file_extension": ".py",
   "mimetype": "text/x-python",
   "name": "python",
   "nbconvert_exporter": "python",
   "pygments_lexer": "ipython3",
   "version": "3.10.6"
  }
 },
 "nbformat": 4,
 "nbformat_minor": 5
}
